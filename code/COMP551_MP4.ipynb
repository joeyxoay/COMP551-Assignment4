{
  "nbformat": 4,
  "nbformat_minor": 0,
  "metadata": {
    "colab": {
      "provenance": [],
      "gpuType": "T4"
    },
    "kernelspec": {
      "name": "python3",
      "display_name": "Python 3"
    },
    "language_info": {
      "name": "python"
    },
    "accelerator": "GPU"
  },
  "cells": [
    {
      "cell_type": "markdown",
      "source": [
        "# **Original Model Implementation (Modified to fit TensorFlow Version 2.14.0)**"
      ],
      "metadata": {
        "id": "NAp9uy9d3M8Y"
      }
    },
    {
      "cell_type": "code",
      "source": [
        "import numpy as np\n",
        "import tensorflow as tf\n",
        "import iris\n",
        "import matplotlib.pyplot as plt\n",
        "from neural_network_decision_tree import nn_decision_tree\n",
        "%matplotlib inline"
      ],
      "metadata": {
        "id": "XQZ7Vu_ji4pl"
      },
      "execution_count": null,
      "outputs": []
    },
    {
      "cell_type": "code",
      "source": [
        "tf.__version__"
      ],
      "metadata": {
        "colab": {
          "base_uri": "https://localhost:8080/",
          "height": 35
        },
        "id": "UPMvjNKAjBnO",
        "outputId": "b042884d-549f-4f76-e432-4f4fb4703f8f"
      },
      "execution_count": null,
      "outputs": [
        {
          "output_type": "execute_result",
          "data": {
            "text/plain": [
              "'2.14.0'"
            ],
            "application/vnd.google.colaboratory.intrinsic+json": {
              "type": "string"
            }
          },
          "metadata": {},
          "execution_count": 6
        }
      ]
    },
    {
      "cell_type": "code",
      "source": [
        "np.random.seed(1943)\n",
        "tf.random.set_seed(1943)"
      ],
      "metadata": {
        "id": "D88LyepTjDi4"
      },
      "execution_count": null,
      "outputs": []
    },
    {
      "cell_type": "code",
      "source": [
        "x = iris.feature[:, 2:4]  # use \"Petal length\" and \"Petal width\" only\n",
        "y = iris.label\n",
        "d = x.shape[1]"
      ],
      "metadata": {
        "id": "cAVhxkvBkEXi"
      },
      "execution_count": null,
      "outputs": []
    },
    {
      "cell_type": "code",
      "source": [
        "num_cut = [1, 1]  # \"Petal length\" and \"Petal width\"\n",
        "num_leaf = np.prod(np.array(num_cut) + 1)\n",
        "num_class = 3"
      ],
      "metadata": {
        "id": "Ro8qk7QKkP6m"
      },
      "execution_count": null,
      "outputs": []
    },
    {
      "cell_type": "code",
      "source": [
        "sess = tf.compat.v1.InteractiveSession()"
      ],
      "metadata": {
        "id": "gKX2hr0lkRoM"
      },
      "execution_count": null,
      "outputs": []
    },
    {
      "cell_type": "code",
      "source": [
        "# x_ph = tf.compat.v1.placeholder(tf.float32, [None, d])\n",
        "# y_ph = tf.placeholder(tf.float32, [None, num_class])\n",
        "x_ph = tf.Variable(initial_value=tf.zeros((1, d), dtype=tf.float32))\n",
        "y_ph = tf.Variable(initial_value=tf.zeros((1, num_class), dtype=tf.float32))"
      ],
      "metadata": {
        "id": "PHMhpEkckcuM"
      },
      "execution_count": null,
      "outputs": []
    },
    {
      "cell_type": "code",
      "source": [
        "cut_points_list = [tf.Variable(tf.random.uniform([i])) for i in num_cut]\n",
        "leaf_score = tf.Variable(tf.random.uniform([num_leaf, num_class]))"
      ],
      "metadata": {
        "id": "tjpKcwup4EQk"
      },
      "execution_count": null,
      "outputs": []
    },
    {
      "cell_type": "code",
      "source": [
        "y_pred = nn_decision_tree(x_ph, cut_points_list, leaf_score, temperature=0.1)\n",
        "# loss = tf.reduce_mean(tf.losses.softmax_cross_entropy(logits=y_pred, onehot_labels=y_ph))\n",
        "loss_function = tf.keras.losses.CategoricalCrossentropy(from_logits=True)\n",
        "loss = loss_function(y_ph, y_pred)\n",
        "loss = tf.reduce_mean(loss)"
      ],
      "metadata": {
        "id": "on3Gm5RQ4MW8"
      },
      "execution_count": null,
      "outputs": []
    },
    {
      "cell_type": "code",
      "source": [
        "# opt = tf.train.AdamOptimizer(0.1)\n",
        "optimizer = tf.keras.optimizers.Adam(learning_rate=0.1)\n",
        "# train_step = opt.minimize(loss)\n",
        "@tf.function\n",
        "def train_step(x, y, cut_points_list, leaf_score):\n",
        "    with tf.GradientTape() as tape:\n",
        "        y_pred = nn_decision_tree(x, cut_points_list, leaf_score, temperature=0.1)\n",
        "        print(\"Shapes - y_pred:\", y_pred.shape, \"y:\", y.shape)  # Print shapes for debugging\n",
        "        y_pred = tf.reshape(y_pred, [-1, num_class])  # Reshape y_pred to match the shape of y\n",
        "        current_loss = loss_function(y, y_pred)\n",
        "\n",
        "    gradients = tape.gradient(current_loss, [x_ph] + cut_points_list + [leaf_score])\n",
        "    optimizer.apply_gradients(zip(gradients, [x_ph] + cut_points_list + [leaf_score]))\n",
        "    return current_loss"
      ],
      "metadata": {
        "id": "L8i29kth6uhD"
      },
      "execution_count": null,
      "outputs": []
    },
    {
      "cell_type": "code",
      "source": [
        "# Convert numpy arrays to Tensor\n",
        "x = tf.constant(x, dtype=tf.float32)\n",
        "# y_oneHot = tf.one_hot(y, num_class)\n",
        "\n",
        "# Your training loop\n",
        "num_epochs = 1000  # Set the number of epochs\n",
        "for epoch in range(num_epochs):\n",
        "    current_loss = train_step(x, y, cut_points_list, leaf_score)\n",
        "    if epoch % 200 == 0:\n",
        "        print(current_loss.numpy())\n",
        "\n",
        "y_pred = nn_decision_tree(x, cut_points_list, leaf_score, temperature=0.1)\n",
        "error_rate = 1 - np.mean(np.argmax(y_pred, axis=1) == np.argmax(y, axis=1))\n",
        "print(f'error rate {error_rate:.2f}')"
      ],
      "metadata": {
        "colab": {
          "base_uri": "https://localhost:8080/"
        },
        "id": "RFO7NuCzE8dx",
        "outputId": "5c3904a0-c21a-4c60-9f72-7132454266cc"
      },
      "execution_count": null,
      "outputs": [
        {
          "output_type": "stream",
          "name": "stderr",
          "text": [
            "WARNING:tensorflow:Gradients do not exist for variables ['Variable:0'] when minimizing the loss. If you're using `model.compile()`, did you forget to provide a `loss` argument?\n",
            "WARNING:tensorflow:Gradients do not exist for variables ['Variable:0'] when minimizing the loss. If you're using `model.compile()`, did you forget to provide a `loss` argument?\n"
          ]
        },
        {
          "output_type": "stream",
          "name": "stdout",
          "text": [
            "Values - y_pred: Tensor(\"MatMul_2:0\", shape=(150, 3), dtype=float32) y: Tensor(\"y:0\", shape=(150, 3), dtype=int64)\n",
            "Shapes - y_pred: (150, 3) y: (150, 3)\n"
          ]
        },
        {
          "output_type": "stream",
          "name": "stderr",
          "text": [
            "WARNING:tensorflow:Gradients do not exist for variables ['Variable:0'] when minimizing the loss. If you're using `model.compile()`, did you forget to provide a `loss` argument?\n",
            "WARNING:tensorflow:Gradients do not exist for variables ['Variable:0'] when minimizing the loss. If you're using `model.compile()`, did you forget to provide a `loss` argument?\n"
          ]
        },
        {
          "output_type": "stream",
          "name": "stdout",
          "text": [
            "Values - y_pred: Tensor(\"MatMul_2:0\", shape=(150, 3), dtype=float32) y: Tensor(\"y:0\", shape=(150, 3), dtype=int64)\n",
            "Shapes - y_pred: (150, 3) y: (150, 3)\n",
            "1.2471884\n",
            "0.12529777\n",
            "0.12489141\n",
            "0.12326012\n",
            "0.121581145\n",
            "error rate 0.03\n"
          ]
        }
      ]
    }
  ]
}