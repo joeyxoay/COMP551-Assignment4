{
  "nbformat": 4,
  "nbformat_minor": 0,
  "metadata": {
    "colab": {
      "provenance": []
    },
    "kernelspec": {
      "name": "python3",
      "display_name": "Python 3"
    },
    "language_info": {
      "name": "python"
    }
  },
  "cells": [
    {
      "cell_type": "code",
      "execution_count": null,
      "metadata": {
        "id": "Ldw0sHboAl-L"
      },
      "outputs": [],
      "source": [
        "import pandas as pd\n",
        "from sklearn.model_selection import train_test_split\n",
        "from sklearn.preprocessing import LabelEncoder\n",
        "from sklearn.tree import DecisionTreeClassifier\n",
        "from sklearn.metrics import accuracy_score\n",
        "from sklearn.impute import SimpleImputer"
      ]
    },
    {
      "cell_type": "code",
      "source": [
        "# Decision tree model\n",
        "\n",
        "decision_tree_model = DecisionTreeClassifier()"
      ],
      "metadata": {
        "id": "UbGFpB_eFIF6"
      },
      "execution_count": null,
      "outputs": []
    },
    {
      "cell_type": "code",
      "source": [
        "# Iris dataset\n",
        "\n",
        "url = \"https://archive.ics.uci.edu/ml/machine-learning-databases/iris/iris.data\"\n",
        "columns = ['SepalLengthCm', 'SepalWidthCm', 'PetalLengthCm', 'PetalWidthCm', 'Species']\n",
        "iris = pd.read_csv(url, names=columns)\n",
        "\n",
        "# Preprocess\n",
        "X = iris.drop('Species', axis=1)\n",
        "y = iris['Species']\n",
        "\n",
        "# Encode\n",
        "label_encoder = LabelEncoder()\n",
        "y_encoded = label_encoder.fit_transform(y)\n",
        "\n",
        "# Split\n",
        "X_train, X_test, y_train, y_test = train_test_split(X, y_encoded, test_size=0.2, random_state=42)\n",
        "\n",
        "# Train Decision Tree\n",
        "decision_tree_model.fit(X_train, y_train)\n",
        "\n",
        "# Predict\n",
        "y_pred = decision_tree_model.predict(X_test)\n",
        "\n",
        "# Evaluate\n",
        "accuracy = accuracy_score(y_test, y_pred)\n",
        "print(f\"Decision Tree Accuracy: {accuracy * 100:.2f}%\")"
      ],
      "metadata": {
        "colab": {
          "base_uri": "https://localhost:8080/"
        },
        "id": "pBmBQ2mtBnYK",
        "outputId": "d77770f8-8fb9-433d-81c2-55a00cf9b819"
      },
      "execution_count": null,
      "outputs": [
        {
          "output_type": "stream",
          "name": "stdout",
          "text": [
            "Decision Tree Accuracy: 100.00%\n"
          ]
        }
      ]
    },
    {
      "cell_type": "code",
      "source": [
        "# Haberman’s Survival dataset\n",
        "\n",
        "url = \"https://archive.ics.uci.edu/ml/machine-learning-databases/haberman/haberman.data\"\n",
        "column_names = [\"age\", \"year_of_treatment\", \"positive_lymph_nodes\", \"survival_status_after_5_years\"]\n",
        "haberman = pd.read_csv(url, names=column_names)\n",
        "\n",
        "# Preprocess\n",
        "X = haberman.drop('survival_status_after_5_years', axis=1)\n",
        "y = haberman['survival_status_after_5_years']\n",
        "\n",
        "# Split\n",
        "X_train, X_test, y_train, y_test = train_test_split(X, y, test_size=0.2, random_state=42)\n",
        "\n",
        "# Train Decision Tree\n",
        "decision_tree_model.fit(X_train, y_train)\n",
        "\n",
        "# Predict\n",
        "y_pred = decision_tree_model.predict(X_test)\n",
        "\n",
        "# Evaluate\n",
        "accuracy = accuracy_score(y_test, y_pred)\n",
        "print(f\"Decision Tree Accuracy: {accuracy * 100:.2f}%\")\n"
      ],
      "metadata": {
        "colab": {
          "base_uri": "https://localhost:8080/"
        },
        "id": "DQFXDdZRB0cw",
        "outputId": "a5d36eb1-1cd6-4120-f288-6c6ece82e32f"
      },
      "execution_count": null,
      "outputs": [
        {
          "output_type": "stream",
          "name": "stdout",
          "text": [
            "Decision Tree Accuracy: 66.13%\n"
          ]
        }
      ]
    },
    {
      "cell_type": "code",
      "source": [
        "# Car Evaluation dataset\n",
        "\n",
        "url = \"https://archive.ics.uci.edu/ml/machine-learning-databases/car/car.data\"\n",
        "column_names = [\"buying_price\", \"maintenance_cost\", \"number_of_doors\", \"number_of_persons\", \"lug_boot\", \"safety\", \"decision\"]\n",
        "car = pd.read_csv(url, names=column_names)\n",
        "\n",
        "# Preprocess\n",
        "X = car.drop('decision', axis=1)\n",
        "y = car['decision']\n",
        "\n",
        "# Encode categorical features\n",
        "label_encoder = LabelEncoder()\n",
        "X_encoded = X.apply(label_encoder.fit_transform)\n",
        "\n",
        "# Split\n",
        "X_train, X_test, y_train, y_test = train_test_split(X_encoded, y, test_size=0.2, random_state=42)\n",
        "\n",
        "# Train Decision Tree\n",
        "decision_tree_model.fit(X_train, y_train)\n",
        "\n",
        "# Predict\n",
        "y_pred = decision_tree_model.predict(X_test)\n",
        "\n",
        "# Evaluate\n",
        "accuracy = accuracy_score(y_test, y_pred)\n",
        "print(f\"Decision Tree Accuracy: {accuracy * 100:.2f}%\")\n"
      ],
      "metadata": {
        "colab": {
          "base_uri": "https://localhost:8080/"
        },
        "id": "Qjevt7lrCC6M",
        "outputId": "78895bfd-a399-4c04-8d6f-e19e5eccc5f8"
      },
      "execution_count": null,
      "outputs": [
        {
          "output_type": "stream",
          "name": "stdout",
          "text": [
            "Decision Tree Accuracy: 96.82%\n"
          ]
        }
      ]
    },
    {
      "cell_type": "code",
      "source": [
        "# Breast Cancer Wisconsin dataset\n",
        "\n",
        "url = \"https://archive.ics.uci.edu/ml/machine-learning-databases/breast-cancer-wisconsin/breast-cancer-wisconsin.data\"\n",
        "column_names = [\"Sample_code_number\", \"Clump_thickness\", \"Uniformity_of_cell_size\", \"Uniformity_of_cell_shape\",\n",
        "                \"Marginal_adhesion\", \"Single_epithelial_cell_size\", \"Bare_nuclei\", \"Bland_chromatin\",\n",
        "                \"Normal_nucleoli\", \"Mitoses\", \"Class\"]\n",
        "cancer = pd.read_csv(url, names=column_names)\n",
        "\n",
        "# Preprocess\n",
        "X = cancer.drop('Class', axis=1)\n",
        "y = cancer['Class']\n",
        "\n",
        "# Handle missing values\n",
        "X.replace('?', pd.NA, inplace=True)\n",
        "X = X.apply(pd.to_numeric, errors='coerce')\n",
        "\n",
        "# Impute missing values\n",
        "imputer = SimpleImputer(strategy='mean')\n",
        "X_imputed = imputer.fit_transform(X)\n",
        "\n",
        "# Encode categorical features\n",
        "label_encoder = LabelEncoder()\n",
        "y_encoded = label_encoder.fit_transform(y)\n",
        "\n",
        "# Split\n",
        "X_train, X_test, y_train, y_test = train_test_split(X_imputed, y_encoded, test_size=0.2, random_state=42)\n",
        "\n",
        "# Train Decision Tree\n",
        "decision_tree_model.fit(X_train, y_train)\n",
        "\n",
        "# Predict\n",
        "y_pred = decision_tree_model.predict(X_test)\n",
        "\n",
        "# Evaluate\n",
        "accuracy = accuracy_score(y_test, y_pred)\n",
        "print(f\"Decision Tree Accuracy: {accuracy * 100:.2f}%\")\n"
      ],
      "metadata": {
        "colab": {
          "base_uri": "https://localhost:8080/"
        },
        "id": "grjbRxF-DjWg",
        "outputId": "2f668962-a5f0-401b-da07-416dc3335aa0"
      },
      "execution_count": null,
      "outputs": [
        {
          "output_type": "stream",
          "name": "stdout",
          "text": [
            "Decision Tree Accuracy: 96.43%\n"
          ]
        }
      ]
    },
    {
      "cell_type": "code",
      "source": [
        "# Poker Hands dataset\n",
        "url_train = \"https://archive.ics.uci.edu/ml/machine-learning-databases/poker/poker-hand-training-true.data\"\n",
        "url_test = \"https://archive.ics.uci.edu/ml/machine-learning-databases/poker/poker-hand-testing.data\"\n",
        "column_names = [\"S1\", \"C1\", \"S2\", \"C2\", \"S3\", \"C3\", \"S4\", \"C4\", \"S5\", \"C5\", \"Class\"]\n",
        "\n",
        "# Read training and testing data\n",
        "poker_train = pd.read_csv(url_train, names=column_names)\n",
        "poker_test = pd.read_csv(url_test, names=column_names)\n",
        "\n",
        "# Concatenate training and testing data for simplicity\n",
        "poker = pd.concat([poker_train, poker_test], ignore_index=True)\n",
        "\n",
        "# Preprocess\n",
        "X = poker.drop('Class', axis=1)\n",
        "y = poker['Class']\n",
        "\n",
        "# Split\n",
        "X_train, X_test, y_train, y_test = train_test_split(X, y, test_size=0.2, random_state=42)\n",
        "\n",
        "# Train Decision Tree\n",
        "decision_tree_model.fit(X_train, y_train)\n",
        "\n",
        "# Predict\n",
        "y_pred = decision_tree_model.predict(X_test)\n",
        "\n",
        "# Evaluate\n",
        "accuracy = accuracy_score(y_test, y_pred)\n",
        "print(f\"Decision Tree Accuracy: {accuracy * 100:.2f}%\")\n"
      ],
      "metadata": {
        "colab": {
          "base_uri": "https://localhost:8080/"
        },
        "id": "QosRbzF4D6ZU",
        "outputId": "554fbd8f-1c5a-4838-d222-01726e220926"
      },
      "execution_count": null,
      "outputs": [
        {
          "output_type": "stream",
          "name": "stdout",
          "text": [
            "Decision Tree Accuracy: 64.32%\n"
          ]
        }
      ]
    },
    {
      "cell_type": "code",
      "source": [
        "# German Credit Dataset\n",
        "\n",
        "url = \"https://archive.ics.uci.edu/ml/machine-learning-databases/statlog/german/german.data\"\n",
        "column_names = [\"Status of existing checking account\", \"Duration\", \"Credit history\", \"Purpose\", \"Credit amount\",\n",
        "                \"Savings account/bonds\", \"Present employment since\", \"Installment rate in percentage of disposable income\",\n",
        "                \"Personal status and sex\", \"Other debtors / guarantors\", \"Present residence since\", \"Property\", \"Age\",\n",
        "                \"Other installment plans\", \"Housing\", \"Number of existing credits at this bank\", \"Telephone\",\n",
        "                \"Foreign worker\", \"Credit risk\"]\n",
        "credit_data = pd.read_csv(url, names=column_names, sep=' ', header=None)\n",
        "\n",
        "# Preprocess\n",
        "X = credit_data.drop('Credit risk', axis=1)\n",
        "y = credit_data['Credit risk']\n",
        "\n",
        "# Encode categorical features\n",
        "label_encoder = LabelEncoder()\n",
        "X_encoded = X.apply(lambda x: label_encoder.fit_transform(x) if x.dtype == 'O' else x)\n",
        "\n",
        "# Split\n",
        "X_train, X_test, y_train, y_test = train_test_split(X_encoded, y, test_size=0.2, random_state=42)\n",
        "\n",
        "# Train Decision Tree\n",
        "decision_tree_model.fit(X_train, y_train)\n",
        "\n",
        "# Predict\n",
        "y_pred = decision_tree_model.predict(X_test)\n",
        "\n",
        "# Evaluate\n",
        "accuracy = accuracy_score(y_test, y_pred)\n",
        "print(f\"Decision Tree Accuracy: {accuracy * 100:.2f}%\")\n"
      ],
      "metadata": {
        "colab": {
          "base_uri": "https://localhost:8080/"
        },
        "id": "pGzwmam5ET4m",
        "outputId": "09cdecd6-9bdf-482b-db34-e28db3e04b66"
      },
      "execution_count": null,
      "outputs": [
        {
          "output_type": "stream",
          "name": "stdout",
          "text": [
            "Decision Tree Accuracy: 63.50%\n"
          ]
        }
      ]
    },
    {
      "cell_type": "markdown",
      "source": [
        "# **Hyperparameters Experiments**"
      ],
      "metadata": {
        "id": "hOGXzSgzUrNO"
      }
    },
    {
      "cell_type": "markdown",
      "source": [
        "**Test Size (experiments)**"
      ],
      "metadata": {
        "id": "9UikJcbmVdJ5"
      }
    },
    {
      "cell_type": "code",
      "source": [
        "# Haberman’s Survival dataset\n",
        "\n",
        "url = \"https://archive.ics.uci.edu/ml/machine-learning-databases/haberman/haberman.data\"\n",
        "column_names = [\"age\", \"year_of_treatment\", \"positive_lymph_nodes\", \"survival_status_after_5_years\"]\n",
        "haberman = pd.read_csv(url, names=column_names)\n",
        "\n",
        "# Preprocess\n",
        "X = haberman.drop('survival_status_after_5_years', axis=1)\n",
        "y = haberman['survival_status_after_5_years']\n",
        "\n",
        "# Split\n",
        "X_train, X_test, y_train, y_test = train_test_split(X, y, test_size=0.4, random_state=42)\n",
        "\n",
        "# Train Decision Tree\n",
        "decision_tree_model.fit(X_train, y_train)\n",
        "\n",
        "# Predict\n",
        "y_pred = decision_tree_model.predict(X_test)\n",
        "\n",
        "# Evaluate\n",
        "accuracy = accuracy_score(y_test, y_pred)\n",
        "print(f\"Decision Tree Accuracy: {accuracy * 100:.2f}%\")\n"
      ],
      "metadata": {
        "colab": {
          "base_uri": "https://localhost:8080/"
        },
        "id": "ofBG7jYSUsG3",
        "outputId": "9185129a-02c4-4eca-b8a3-b871912d8371"
      },
      "execution_count": null,
      "outputs": [
        {
          "output_type": "stream",
          "name": "stdout",
          "text": [
            "Decision Tree Accuracy: 61.79%\n"
          ]
        }
      ]
    },
    {
      "cell_type": "code",
      "source": [
        "# Haberman’s Survival dataset\n",
        "\n",
        "url = \"https://archive.ics.uci.edu/ml/machine-learning-databases/haberman/haberman.data\"\n",
        "column_names = [\"age\", \"year_of_treatment\", \"positive_lymph_nodes\", \"survival_status_after_5_years\"]\n",
        "haberman = pd.read_csv(url, names=column_names)\n",
        "\n",
        "# Preprocess\n",
        "X = haberman.drop('survival_status_after_5_years', axis=1)\n",
        "y = haberman['survival_status_after_5_years']\n",
        "\n",
        "# Split\n",
        "X_train, X_test, y_train, y_test = train_test_split(X, y, test_size=0.1, random_state=42)\n",
        "\n",
        "# Train Decision Tree\n",
        "decision_tree_model.fit(X_train, y_train)\n",
        "\n",
        "# Predict\n",
        "y_pred = decision_tree_model.predict(X_test)\n",
        "\n",
        "# Evaluate\n",
        "accuracy = accuracy_score(y_test, y_pred)\n",
        "print(f\"Decision Tree Accuracy: {accuracy * 100:.2f}%\")\n"
      ],
      "metadata": {
        "colab": {
          "base_uri": "https://localhost:8080/"
        },
        "id": "v4Jckn4SVtJ9",
        "outputId": "5152af1c-1c86-4630-9777-101140150aa3"
      },
      "execution_count": null,
      "outputs": [
        {
          "output_type": "stream",
          "name": "stdout",
          "text": [
            "Decision Tree Accuracy: 64.52%\n"
          ]
        }
      ]
    },
    {
      "cell_type": "markdown",
      "source": [
        "**Varying Random States**"
      ],
      "metadata": {
        "id": "zKtKlL-2Vver"
      }
    },
    {
      "cell_type": "code",
      "source": [
        "# Haberman’s Survival dataset\n",
        "\n",
        "url = \"https://archive.ics.uci.edu/ml/machine-learning-databases/haberman/haberman.data\"\n",
        "column_names = [\"age\", \"year_of_treatment\", \"positive_lymph_nodes\", \"survival_status_after_5_years\"]\n",
        "haberman = pd.read_csv(url, names=column_names)\n",
        "\n",
        "# Preprocess\n",
        "X = haberman.drop('survival_status_after_5_years', axis=1)\n",
        "y = haberman['survival_status_after_5_years']\n",
        "\n",
        "# Split\n",
        "X_train, X_test, y_train, y_test = train_test_split(X, y, test_size=0.2, random_state=20)\n",
        "\n",
        "# Train Decision Tree\n",
        "decision_tree_model.fit(X_train, y_train)\n",
        "\n",
        "# Predict\n",
        "y_pred = decision_tree_model.predict(X_test)\n",
        "\n",
        "# Evaluate\n",
        "accuracy = accuracy_score(y_test, y_pred)\n",
        "print(f\"Decision Tree Accuracy: {accuracy * 100:.2f}%\")\n"
      ],
      "metadata": {
        "colab": {
          "base_uri": "https://localhost:8080/"
        },
        "id": "PC6_jyw8VzcK",
        "outputId": "cb684256-1385-4d76-b145-58a0677784c2"
      },
      "execution_count": null,
      "outputs": [
        {
          "output_type": "stream",
          "name": "stdout",
          "text": [
            "Decision Tree Accuracy: 64.52%\n"
          ]
        }
      ]
    },
    {
      "cell_type": "code",
      "source": [
        "# Haberman’s Survival dataset\n",
        "\n",
        "url = \"https://archive.ics.uci.edu/ml/machine-learning-databases/haberman/haberman.data\"\n",
        "column_names = [\"age\", \"year_of_treatment\", \"positive_lymph_nodes\", \"survival_status_after_5_years\"]\n",
        "haberman = pd.read_csv(url, names=column_names)\n",
        "\n",
        "# Preprocess\n",
        "X = haberman.drop('survival_status_after_5_years', axis=1)\n",
        "y = haberman['survival_status_after_5_years']\n",
        "\n",
        "# Split\n",
        "X_train, X_test, y_train, y_test = train_test_split(X, y, test_size=0.2, random_state=42)\n",
        "\n",
        "# Train Decision Tree\n",
        "decision_tree_model.fit(X_train, y_train)\n",
        "\n",
        "# Predict\n",
        "y_pred = decision_tree_model.predict(X_test)\n",
        "\n",
        "# Evaluate\n",
        "accuracy = accuracy_score(y_test, y_pred)\n",
        "print(f\"Decision Tree Accuracy: {accuracy * 100:.2f}%\")\n"
      ],
      "metadata": {
        "colab": {
          "base_uri": "https://localhost:8080/"
        },
        "id": "qE3mqtm5V4aM",
        "outputId": "1ca66fea-a98d-4d1b-8636-4e1021bd2db3"
      },
      "execution_count": null,
      "outputs": [
        {
          "output_type": "stream",
          "name": "stdout",
          "text": [
            "Decision Tree Accuracy: 66.13%\n"
          ]
        }
      ]
    }
  ]
}